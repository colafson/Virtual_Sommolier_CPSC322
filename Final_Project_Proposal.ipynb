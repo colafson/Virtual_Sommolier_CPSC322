{
 "cells": [
  {
   "cell_type": "markdown",
   "id": "analyzed-venezuela",
   "metadata": {},
   "source": [
    "# Cole Olafson and Matt Schwartz"
   ]
  },
  {
   "cell_type": "markdown",
   "id": "armed-september",
   "metadata": {},
   "source": [
    "## Virtual Sommolier"
   ]
  },
  {
   "cell_type": "markdown",
   "id": "appropriate-roulette",
   "metadata": {},
   "source": [
    "### Description of Data Set:"
   ]
  },
  {
   "cell_type": "markdown",
   "id": "julian-thriller",
   "metadata": {},
   "source": [
    "We are interested in the analyzation and prediction of a wine's favorability based on factors such as country, price, province, region, and sommolier name of who rated the wine. The data comes from https://www.kaggle.com/zynicide/wine-reviews and comes from a scraping of https://www.winemag.com."
   ]
  },
  {
   "cell_type": "markdown",
   "id": "residential-potter",
   "metadata": {},
   "source": [
    "### Implementation/Technical Merit:"
   ]
  },
  {
   "cell_type": "markdown",
   "id": "acceptable-rotation",
   "metadata": {},
   "source": [
    "Anticipated challenges will be missing values and that a lot of our attributes are non-numeric which will require us a bit of preprocessing to work with. Likewise since our data includes 130,000 instances there may be unseen challenges that we are unaware of. We do not have an overly large amount of attributes so we should not come accross too many problems in terms of that. "
   ]
  },
  {
   "cell_type": "markdown",
   "id": "naval-module",
   "metadata": {},
   "source": [
    "### Potential Impavct of the Results:"
   ]
  },
  {
   "cell_type": "markdown",
   "id": "operational-dollar",
   "metadata": {},
   "source": [
    "These results will be useful in the way that it helps unexperienced buyers for the home or restaurant to pick a great wine without the consultation of an experienced sommolier. These buyers may include a novice wine enthusiust who wants something to start off their new hobby with, an owner of a convenience store or restaurant that would want to know which wines to purchase to sell or not as well as a winery who may want to use something like this to determine where their focus on future products should land. "
   ]
  }
 ],
 "metadata": {
  "kernelspec": {
   "display_name": "Python 3",
   "language": "python",
   "name": "python3"
  },
  "language_info": {
   "codemirror_mode": {
    "name": "ipython",
    "version": 3
   },
   "file_extension": ".py",
   "mimetype": "text/x-python",
   "name": "python",
   "nbconvert_exporter": "python",
   "pygments_lexer": "ipython3",
   "version": "3.8.5"
  }
 },
 "nbformat": 4,
 "nbformat_minor": 5
}
